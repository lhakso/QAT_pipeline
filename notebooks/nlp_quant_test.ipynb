{
 "cells": [
  {
   "cell_type": "code",
   "execution_count": 29,
   "id": "4965d2c5-ad1c-49e4-b896-ffd58245785b",
   "metadata": {},
   "outputs": [
    {
     "name": "stderr",
     "output_type": "stream",
     "text": [
      "Some weights of DistilBertForSequenceClassification were not initialized from the model checkpoint at distilbert-base-uncased and are newly initialized: ['classifier.bias', 'classifier.weight', 'pre_classifier.bias', 'pre_classifier.weight']\n",
      "You should probably TRAIN this model on a down-stream task to be able to use it for predictions and inference.\n"
     ]
    },
    {
     "ename": "KeyboardInterrupt",
     "evalue": "",
     "output_type": "error",
     "traceback": [
      "\u001b[31m---------------------------------------------------------------------------\u001b[39m",
      "\u001b[31mKeyboardInterrupt\u001b[39m                         Traceback (most recent call last)",
      "\u001b[36mCell\u001b[39m\u001b[36m \u001b[39m\u001b[32mIn[29]\u001b[39m\u001b[32m, line 52\u001b[39m\n\u001b[32m     50\u001b[39m     optimizer.step()\n\u001b[32m     51\u001b[39m     scheduler.step()\n\u001b[32m---> \u001b[39m\u001b[32m52\u001b[39m     running += \u001b[43mloss\u001b[49m\u001b[43m.\u001b[49m\u001b[43mitem\u001b[49m\u001b[43m(\u001b[49m\u001b[43m)\u001b[49m\n\u001b[32m     53\u001b[39m \u001b[38;5;28mprint\u001b[39m(\u001b[33mf\u001b[39m\u001b[33m\"\u001b[39m\u001b[33mEpoch \u001b[39m\u001b[38;5;132;01m{\u001b[39;00mepoch\u001b[38;5;132;01m}\u001b[39;00m\u001b[33m | train loss: \u001b[39m\u001b[38;5;132;01m{\u001b[39;00mrunning/\u001b[38;5;28mlen\u001b[39m(train_loader)\u001b[38;5;132;01m:\u001b[39;00m\u001b[33m.4f\u001b[39m\u001b[38;5;132;01m}\u001b[39;00m\u001b[33m\"\u001b[39m)\n",
      "\u001b[31mKeyboardInterrupt\u001b[39m: "
     ]
    }
   ],
   "source": [
    "import torch\n",
    "from torch.utils.data import DataLoader\n",
    "from datasets import load_dataset\n",
    "from transformers import (\n",
    "    AutoTokenizer,\n",
    "    AutoModelForSequenceClassification,\n",
    "    DataCollatorWithPadding,\n",
    "    get_linear_schedule_with_warmup,\n",
    ")\n",
    "\n",
    "device = torch.device(\"cuda\" if torch.cuda.is_available() else \"mps\")\n",
    "\n",
    "# 1) Dataset (GLUE/SST-2)\n",
    "raw_ds = load_dataset(\"glue\", \"sst2\")\n",
    "tokenizer = AutoTokenizer.from_pretrained(\"distilbert-base-uncased\")\n",
    "\n",
    "def tokenize_fn(ex):\n",
    "    return tokenizer(ex[\"sentence\"], truncation=True)\n",
    "\n",
    "# Keep only 'label'; drop 'sentence' and 'idx'\n",
    "cols_to_remove = [c for c in raw_ds[\"train\"].column_names if c not in [\"label\"]]\n",
    "tokenized = raw_ds.map(tokenize_fn, batched=True, remove_columns=cols_to_remove)\n",
    "\n",
    "collate = DataCollatorWithPadding(tokenizer=tokenizer)\n",
    "train_loader = DataLoader(tokenized[\"train\"], batch_size=128, shuffle=True, collate_fn=collate)\n",
    "val_loader   = DataLoader(tokenized[\"validation\"], batch_size=128, shuffle=False, collate_fn=collate)\n",
    "\n",
    "# 3) Model + optim\n",
    "model = AutoModelForSequenceClassification.from_pretrained(\"distilbert-base-uncased\", num_labels=2)\n",
    "model.to(device)\n",
    "\n",
    "optimizer = torch.optim.AdamW(model.parameters(), lr=5e-5)\n",
    "\n",
    "# (optional) scheduler for a few epochs\n",
    "num_epochs = 3\n",
    "num_steps = num_epochs * len(train_loader)\n",
    "scheduler = get_linear_schedule_with_warmup(optimizer, num_warmup_steps=int(0.1 * num_steps), num_training_steps=num_steps)\n",
    "\n",
    "# 4) Train loop\n",
    "for epoch in range(1, num_epochs + 1):\n",
    "    model.train()\n",
    "    running = 0.0\n",
    "    for batch in train_loader:\n",
    "        # batch is a dict: input_ids, attention_mask, (optionally token_type_ids), labels\n",
    "        batch = {k: v.to(device) for k, v in batch.items()}\n",
    "        optimizer.zero_grad()\n",
    "        out = model(**batch)          # returns loss + logits when labels present\n",
    "        loss = out.loss\n",
    "        loss.backward()\n",
    "        optimizer.step()\n",
    "        scheduler.step()\n",
    "        running += loss.item()\n",
    "    print(f\"Epoch {epoch} | train loss: {running/len(train_loader):.4f}\")"
   ]
  },
  {
   "cell_type": "code",
   "execution_count": 24,
   "id": "8a86edf7-b29c-4012-a0eb-1a3d54309b39",
   "metadata": {
    "collapsed": true,
    "jupyter": {
     "outputs_hidden": true
    }
   },
   "outputs": [
    {
     "data": {
      "text/plain": [
       "('./distilbert-sst2-finetuned/tokenizer_config.json',\n",
       " './distilbert-sst2-finetuned/special_tokens_map.json',\n",
       " './distilbert-sst2-finetuned/vocab.txt',\n",
       " './distilbert-sst2-finetuned/added_tokens.json',\n",
       " './distilbert-sst2-finetuned/tokenizer.json')"
      ]
     },
     "execution_count": 24,
     "metadata": {},
     "output_type": "execute_result"
    }
   ],
   "source": [
    "save_dir = \"./distilbert-sst2-finetuned-batch-128\"\n",
    "\n",
    "# Save model weights + config\n",
    "model.save_pretrained(save_dir)\n",
    "\n",
    "# Save tokenizer too (important for re-tokenization later)\n",
    "tokenizer.save_pretrained(save_dir)"
   ]
  },
  {
   "cell_type": "markdown",
   "id": "684c5f84-858c-4553-b5fe-f8ed7bc1a1be",
   "metadata": {},
   "source": [
    "# Quantize Model & Save Model"
   ]
  },
  {
   "cell_type": "code",
   "execution_count": 25,
   "id": "360fde60-bae2-46e9-84cc-41bfa899a494",
   "metadata": {},
   "outputs": [],
   "source": [
    "from copy import deepcopy\n",
    "from torchao.quantization import quantize_, Int8WeightOnlyConfig\n",
    "torch.backends.quantized.engine = \"qnnpack\"\n",
    "\n",
    "qmodel = deepcopy(fp32_model)        # don’t mutate your original\n",
    "qmodel.eval()                        # eval mode is important\n",
    "qmodel = qmodel.to(\"cpu\")            # quant path is CPU\n",
    "\n",
    "# Quantize linear weights (grouped int8). Use a group size that divides hidden dims (e.g., 64).\n",
    "quantize_(qmodel, Int8WeightOnlyConfig(group_size=64))"
   ]
  },
  {
   "cell_type": "code",
   "execution_count": 26,
   "id": "87c7c47c-9d21-4641-a7ef-29d959d0c0ed",
   "metadata": {},
   "outputs": [
    {
     "data": {
      "text/plain": [
       "('./distilbert-sst2-finetuned-quantized/tokenizer_config.json',\n",
       " './distilbert-sst2-finetuned-quantized/special_tokens_map.json',\n",
       " './distilbert-sst2-finetuned-quantized/vocab.txt',\n",
       " './distilbert-sst2-finetuned-quantized/added_tokens.json',\n",
       " './distilbert-sst2-finetuned-quantized/tokenizer.json')"
      ]
     },
     "execution_count": 26,
     "metadata": {},
     "output_type": "execute_result"
    }
   ],
   "source": [
    "import os, torch\n",
    "qsave_dir = \"./distilbert-sst2-finetuned-quantized\"\n",
    "os.makedirs(save_dir, exist_ok=True)\n",
    "\n",
    "# 1) save state dict with torch.save (works with torchao tensor subclasses)\n",
    "torch.save(qmodel.state_dict(), os.path.join(save_dir, \"pytorch_model.bin\"))\n",
    "\n",
    "# 2) save the HF config so from_pretrained can rebuild the architecture\n",
    "qmodel.config.save_pretrained(qsave_dir)\n",
    "\n",
    "# 3) tokenizer stays the same\n",
    "tokenizer.save_pretrained(qsave_dir)"
   ]
  },
  {
   "cell_type": "markdown",
   "id": "b3effa0c-5b27-42d0-b4e7-5f9b48ffd782",
   "metadata": {},
   "source": [
    "## Load and Eval Models"
   ]
  },
  {
   "cell_type": "code",
   "execution_count": 27,
   "id": "633ef2ca-eae7-4a50-8a26-04407ed66dba",
   "metadata": {},
   "outputs": [
    {
     "data": {
      "text/plain": [
       "<All keys matched successfully>"
      ]
     },
     "execution_count": 27,
     "metadata": {},
     "output_type": "execute_result"
    }
   ],
   "source": [
    "qmodel = AutoModelForSequenceClassification.from_pretrained(qsave_dir)  # builds the arch\n",
    "state = torch.load(os.path.join(save_dir, \"pytorch_model.bin\"), map_location=\"cpu\")\n",
    "qmodel.load_state_dict(state, strict=True)\n",
    "# may need to load tokenizer later for both if testing on new text"
   ]
  },
  {
   "cell_type": "code",
   "execution_count": 28,
   "id": "c4b30b94-4de5-4e11-a0b7-305767169cb4",
   "metadata": {},
   "outputs": [
    {
     "name": "stdout",
     "output_type": "stream",
     "text": [
      "FP32: {'acc': 89.90825688073394, 'mean_ms_per_batch': 309.9399224322821, 'batches_measured': 7}\n",
      "Quantized: {'acc': 90.59633027522936, 'mean_ms_per_batch': 330.66494028233654, 'batches_measured': 7}\n"
     ]
    }
   ],
   "source": [
    "fp32_model = AutoModelForSequenceClassification.from_pretrained(\"./distilbert-sst2-finetuned\").to(\"cpu\")\n",
    "fp32_metrics = evaluate(fp32_model, val_loader, device=\"cpu\")\n",
    "qmetrics = evaluate(qmodel, val_loader, device=\"cpu\")\n",
    "print(\"FP32:\", fp32_metrics)\n",
    "print(\"Quantized:\", qmetrics)"
   ]
  },
  {
   "cell_type": "markdown",
   "id": "769d3c05-9734-4fb0-bc21-c681ef95e0ed",
   "metadata": {},
   "source": [
    "# Model Evaluator Helper"
   ]
  },
  {
   "cell_type": "code",
   "execution_count": 5,
   "id": "e0ed1b25-3cac-41a6-a9c4-d8ab884f8a77",
   "metadata": {
    "jupyter": {
     "source_hidden": true
    }
   },
   "outputs": [],
   "source": [
    "import time\n",
    "import torch\n",
    "\n",
    "@torch.inference_mode()\n",
    "def evaluate(model, dataloader, device=\"cpu\", warmup=2, measure_batches=20):\n",
    "    model.eval()\n",
    "    correct = total = 0\n",
    "    times = []\n",
    "\n",
    "    # warmup passes (not timed)\n",
    "    it = iter(dataloader)\n",
    "    for _ in range(min(warmup, len(dataloader))):\n",
    "        batch = next(it, None)\n",
    "        if batch is None: break\n",
    "        batch = {k: v.to(device) for k, v in batch.items()}\n",
    "        _ = model(**batch).logits\n",
    "\n",
    "    # timed passes\n",
    "    counted = 0\n",
    "    for batch in dataloader:\n",
    "        if counted >= measure_batches: break\n",
    "        labels = batch[\"labels\"]\n",
    "        batch = {k: v.to(device) for k, v in batch.items()}\n",
    "\n",
    "        t0 = time.perf_counter()\n",
    "        logits = model(**batch).logits\n",
    "        dt = (time.perf_counter() - t0) * 1000.0  # ms\n",
    "        times.append(dt)\n",
    "\n",
    "        preds = logits.argmax(dim=-1).cpu()\n",
    "        correct += (preds == labels).sum().item()\n",
    "        total += labels.size(0)\n",
    "        counted += 1\n",
    "\n",
    "    acc = 100.0 * correct / total if total else 0.0\n",
    "    mean_ms = sum(times) / len(times) if times else float(\"nan\")\n",
    "    return {\"acc\": acc, \"mean_ms_per_batch\": mean_ms, \"batches_measured\": counted}"
   ]
  }
 ],
 "metadata": {
  "kernelspec": {
   "display_name": "Python (qat_pipeline)",
   "language": "python",
   "name": ".venv"
  },
  "language_info": {
   "codemirror_mode": {
    "name": "ipython",
    "version": 3
   },
   "file_extension": ".py",
   "mimetype": "text/x-python",
   "name": "python",
   "nbconvert_exporter": "python",
   "pygments_lexer": "ipython3",
   "version": "3.13.5"
  }
 },
 "nbformat": 4,
 "nbformat_minor": 5
}
